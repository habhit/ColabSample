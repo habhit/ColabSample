{
  "nbformat": 4,
  "nbformat_minor": 0,
  "metadata": {
    "colab": {
      "name": "202101_Biseki2.ipynb",
      "provenance": [],
      "authorship_tag": "ABX9TyPq2XEeNpsC3IJdK1cPrCMl"
    },
    "kernelspec": {
      "name": "python3",
      "display_name": "Python 3"
    }
  },
  "cells": [
    {
      "cell_type": "markdown",
      "metadata": {
        "id": "HpF5BwfR2UaN"
      },
      "source": [
        "# ニュートン法のサンプル\n",
        "参考文献[1]を元に作ってみたニュートン法のサンプルコードです．"
      ]
    },
    {
      "cell_type": "code",
      "metadata": {
        "id": "_OEamoXF0aWn"
      },
      "source": [
        "# |f(x) - 0| を計算する関数\n",
        "def dx(f, x):\n",
        "    print('現在の x は {} でそこでの f(x) は {}'.format(x,f(x)))\n",
        "    return abs(0-f(x))\n",
        "\n",
        "# ニュートン法の本体．\n",
        "# 引数：関数 f，導関数 df，初期値 x0，繰り返し計算をストップさせる閾値 e  \n",
        "def newtons_method(f, df, x0, e):\n",
        "    print('＜ニュートン法開始＞')\n",
        "    # 最初に f(x_0) を計算する．もし最初から |f(x_0)-0|<=e を満たしていればすぐに終了\n",
        "    delta = dx(f, x0)\n",
        "    # 繰り返し計算．|f(x_0)-0|>=e を満たしていれば計算を行う\n",
        "    while delta > e:\n",
        "        # ニュートン法の更新式\n",
        "        x0 = x0 - f(x0)/df(x0)\n",
        "        # 更新した x_0 で |f(x_0)-0| を計算\n",
        "        delta = dx(f, x0)\n",
        "    print('＜ニュートン法終了＞')\n",
        "    print( '最終的に求まった解は x = ', x0)\n",
        "    print( 'この x における f(x) は ', f(x0))"
      ],
      "execution_count": null,
      "outputs": []
    },
    {
      "cell_type": "markdown",
      "metadata": {
        "id": "AlpAOXF85Mrm"
      },
      "source": [
        "## (1) 多項式の方程式を解いてみる\n",
        "$f(x)=(x -3 )(x+1) = x^2 -2x -3 $ として方程式 $f(x)=0$ を解くことにします．もちろんこの方程式は解析的に解くことができ，解は $x=-1,\\,3$  ですが，ここでは数値的に解くことを試みます．ニュートン法では解こうとする関数 $f(x)$ そのものと，その導関数 $f'(x)$ を与える必要があるので，それを指定します．"
      ]
    },
    {
      "cell_type": "code",
      "metadata": {
        "id": "rM39EvRv1TaZ"
      },
      "source": [
        "# 解こうとする式\n",
        "def f(x):\n",
        "    return x**2-2*x-3\n",
        "\n",
        "# その導関数\n",
        "def df(x):\n",
        "    return 2*x-2"
      ],
      "execution_count": null,
      "outputs": []
    },
    {
      "cell_type": "markdown",
      "metadata": {
        "id": "WXRtI8M56zgj"
      },
      "source": [
        "初期値を $x_0 =4$ として実行してみます．"
      ]
    },
    {
      "cell_type": "code",
      "metadata": {
        "id": "_zvc0oma1pFx",
        "colab": {
          "base_uri": "https://localhost:8080/"
        },
        "outputId": "ae8d6bb1-da21-4e24-e8c3-cf23942e22a3"
      },
      "source": [
        "newtons_method(f, df, 4, 1e-5)"
      ],
      "execution_count": null,
      "outputs": [
        {
          "output_type": "stream",
          "text": [
            "＜ニュートン法開始＞\n",
            "現在の x は 4 でそこでの f(x) は 5\n",
            "現在の x は 3.1666666666666665 でそこでの f(x) は 0.6944444444444438\n",
            "現在の x は 3.0064102564102564 でそこでの f(x) は 0.02568211702827128\n",
            "現在の x は 3.0000102400262145 でそこでの f(x) は 4.0960209716445206e-05\n",
            "現在の x は 3.000000000026214 でそこでの f(x) は 1.0485745605137708e-10\n",
            "＜ニュートン法終了＞\n",
            "最終的に求まった解は x =  3.000000000026214\n",
            "この x における f(x) は  1.0485745605137708e-10\n"
          ],
          "name": "stdout"
        }
      ]
    },
    {
      "cell_type": "markdown",
      "metadata": {
        "id": "1nVka8wu7AvT"
      },
      "source": [
        "上記のように $x=3$ に近い解が得られました．なお，数値的に解を求めるときには，正しい解そのものが得られないことに注意が必要です．\n",
        "\n",
        "次に，$x_0=-3$ を初期値にして解を求めてみましょう．"
      ]
    },
    {
      "cell_type": "code",
      "metadata": {
        "id": "Vk08MPjl7dlU",
        "colab": {
          "base_uri": "https://localhost:8080/"
        },
        "outputId": "4a505ad3-3d5d-43df-bb60-19b2fe413082"
      },
      "source": [
        "newtons_method(f, df, -3, 1e-5)"
      ],
      "execution_count": null,
      "outputs": [
        {
          "output_type": "stream",
          "text": [
            "＜ニュートン法開始＞\n",
            "現在の x は -3 でそこでの f(x) は 12\n",
            "現在の x は -1.5 でそこでの f(x) は 2.25\n",
            "現在の x は -1.05 でそこでの f(x) は 0.20250000000000012\n",
            "現在の x は -1.000609756097561 でそこでの f(x) は 0.0024393961927429153\n",
            "現在の x は -1.0000000929222947 でそこでの f(x) は 3.716891878724482e-07\n",
            "＜ニュートン法終了＞\n",
            "最終的に求まった解は x =  -1.0000000929222947\n",
            "この x における f(x) は  3.716891878724482e-07\n"
          ],
          "name": "stdout"
        }
      ]
    },
    {
      "cell_type": "markdown",
      "metadata": {
        "id": "XRfmaBFH7g4q"
      },
      "source": [
        "上記のように，$x=-1$ に近い解が得られました．このように，初期値に近い解が得られます．"
      ]
    },
    {
      "cell_type": "markdown",
      "metadata": {
        "id": "8ZfKNFoO8rqC"
      },
      "source": [
        "## (2) 平方根を計算してみる\n",
        "参考文献[2]にあるように，ニュートン法を使って平方根の近似値を計算できます．ここでは　$\\sqrt{5}$ を計算してみましょう．\n",
        "\n",
        "$\\sqrt{5}$ は方程式 $x^2 -5=0$ の解なので，$f(x) = x^2 -5$ および $f'(x)=2x$ と指定します．"
      ]
    },
    {
      "cell_type": "code",
      "metadata": {
        "id": "rICJdCTv9OWA"
      },
      "source": [
        "# 解こうとする式\n",
        "def f(x):\n",
        "    return x**2-5\n",
        "\n",
        "# その導関数\n",
        "def df(x):\n",
        "    return 2*x"
      ],
      "execution_count": null,
      "outputs": []
    },
    {
      "cell_type": "markdown",
      "metadata": {
        "id": "VTrGWhvG9RkD"
      },
      "source": [
        "初期値を $x_0=4$ として解いてみます．"
      ]
    },
    {
      "cell_type": "code",
      "metadata": {
        "id": "2v7XBWNT9aVy",
        "colab": {
          "base_uri": "https://localhost:8080/"
        },
        "outputId": "765dbb80-1e9c-4b93-eae2-0487397a63f4"
      },
      "source": [
        "newtons_method(f, df, 4, 1e-5)"
      ],
      "execution_count": null,
      "outputs": [
        {
          "output_type": "stream",
          "text": [
            "＜ニュートン法開始＞\n",
            "現在の x は 4 でそこでの f(x) は 11\n",
            "現在の x は 2.625 でそこでの f(x) は 1.890625\n",
            "現在の x は 2.2648809523809526 でそこでの f(x) は 0.1296857284580506\n",
            "現在の x は 2.2362512514861397 でそこでの f(x) は 0.0008196597733256539\n",
            "現在の x は 2.2360679850099823 でそこでの f(x) は 3.358660194408003e-08\n",
            "＜ニュートン法終了＞\n",
            "最終的に求まった解は x =  2.2360679850099823\n",
            "この x における f(x) は  3.358660194408003e-08\n"
          ],
          "name": "stdout"
        }
      ]
    },
    {
      "cell_type": "markdown",
      "metadata": {
        "id": "VEcRm_gd9dlw"
      },
      "source": [
        "このように，皆さんが知っている $\\sqrt{5}$ に近い値が得られました．\n",
        "\n",
        "次に，初期値を $x_0=-3$ とするとどうなるでしょう．"
      ]
    },
    {
      "cell_type": "code",
      "metadata": {
        "id": "vusGhaPx9tPx",
        "colab": {
          "base_uri": "https://localhost:8080/"
        },
        "outputId": "68939c08-f4ec-43ab-935a-e4b8acb34f1f"
      },
      "source": [
        "newtons_method(f, df, -3, 1e-5)"
      ],
      "execution_count": null,
      "outputs": [
        {
          "output_type": "stream",
          "text": [
            "＜ニュートン法開始＞\n",
            "現在の x は -3 でそこでの f(x) は 4\n",
            "現在の x は -2.3333333333333335 でそこでの f(x) は 0.44444444444444553\n",
            "現在の x は -2.238095238095238 でそこでの f(x) は 0.009070294784581101\n",
            "現在の x は -2.2360688956433634 でそこでの f(x) は 4.106063730802134e-06\n",
            "＜ニュートン法終了＞\n",
            "最終的に求まった解は x =  -2.2360688956433634\n",
            "この x における f(x) は  4.106063730802134e-06\n"
          ],
          "name": "stdout"
        }
      ]
    },
    {
      "cell_type": "markdown",
      "metadata": {
        "id": "q-LWG0JP9vJl"
      },
      "source": [
        "$x^2-5=0$ の解は $x=\\pm \\sqrt{5}$ であるので，初期値に近い $x=-\\sqrt{5}$ が得られました．このように，初期値の選び方で得られる解が変わるので注意が必要です．"
      ]
    },
    {
      "cell_type": "markdown",
      "metadata": {
        "id": "c6xNJ3LR-vEx"
      },
      "source": [
        "## (3) 多項式の極値点を求める\n",
        "今回のスライドにもある $f(x)= 2 x^3 - 9 x^2 + 12 x - 5$ の極値・極値点を求めてみます．ご存知の通り，導関数 $f'(x) =  6 x^2 - 18x +12$ について方程式 $f'(x)=0$ となる点が極値点になります．解析的に解くと，解は $x=1,\\,2$  ですが数値的に解くことを試みます．ニュートン法でこれを解くには，$g(x) = f'(x)$ として $g(x)=0$ を解くことにすればよいので，$g(x)=f'(x)$ と，その導関数 $g'(x)=f''(x)$ を指定します．"
      ]
    },
    {
      "cell_type": "code",
      "metadata": {
        "id": "6EWjNnVY-znP"
      },
      "source": [
        "# 解こうとする式\n",
        "def g(x):\n",
        "    return 6*x**2-18*x+12\n",
        "\n",
        "# その導関数\n",
        "def dg(x):\n",
        "    return 12*x-18"
      ],
      "execution_count": null,
      "outputs": []
    },
    {
      "cell_type": "markdown",
      "metadata": {
        "id": "TmYxMuxn-1ch"
      },
      "source": [
        "初期値を $x_0=3$ として解いてみます．"
      ]
    },
    {
      "cell_type": "code",
      "metadata": {
        "colab": {
          "base_uri": "https://localhost:8080/"
        },
        "id": "_HAt0Iym-4Ep",
        "outputId": "9fdea737-9f97-4cae-b50f-12eb09c390db"
      },
      "source": [
        "newtons_method(g, dg, 3, 1e-5)"
      ],
      "execution_count": null,
      "outputs": [
        {
          "output_type": "stream",
          "text": [
            "＜ニュートン法開始＞\n",
            "現在の x は 3 でそこでの f(x) は 12\n",
            "現在の x は 2.3333333333333335 でそこでの f(x) は 2.6666666666666714\n",
            "現在の x は 2.0666666666666664 でそこでの f(x) は 0.4266666666666623\n",
            "現在の x は 2.0039215686274514 でそこでの f(x) は 0.023621683967707696\n",
            "現在の x は 2.0000152590218967 でそこでの f(x) は 9.155552840667269e-05\n",
            "現在の x は 2.0000000002328306 でそこでの f(x) は 1.3969838619232178e-09\n",
            "＜ニュートン法終了＞\n",
            "最終的に求まった解は x =  2.0000000002328306\n",
            "この x における f(x) は  1.3969838619232178e-09\n"
          ],
          "name": "stdout"
        }
      ]
    },
    {
      "cell_type": "markdown",
      "metadata": {
        "id": "cSVbdGg3Dwhs"
      },
      "source": [
        "このように，$x=2$ に近い解が得られました．初期値を変えるともう一つの解が求まります．たとえば $x_0=0$ とすれば，"
      ]
    },
    {
      "cell_type": "code",
      "metadata": {
        "colab": {
          "base_uri": "https://localhost:8080/"
        },
        "id": "M4lgEt6JF0mV",
        "outputId": "3115dea6-6e9c-4748-e284-4ad846c9f124"
      },
      "source": [
        "newtons_method(g, dg, 0, 1e-5)"
      ],
      "execution_count": 13,
      "outputs": [
        {
          "output_type": "stream",
          "text": [
            "＜ニュートン法開始＞\n",
            "現在の x は 0 でそこでの f(x) は 12\n",
            "現在の x は 0.6666666666666666 でそこでの f(x) は 2.666666666666666\n",
            "現在の x は 0.9333333333333332 でそこでの f(x) は 0.4266666666666694\n",
            "現在の x は 0.9960784313725494 でそこでの f(x) は 0.02362168396770059\n",
            "現在の x は 0.999984740978103 でそこでの f(x) は 9.15555284102254e-05\n",
            "現在の x は 0.9999999997671696 でそこでの f(x) は 1.3969838619232178e-09\n",
            "＜ニュートン法終了＞\n",
            "最終的に求まった解は x =  0.9999999997671696\n",
            "この x における f(x) は  1.3969838619232178e-09\n"
          ],
          "name": "stdout"
        }
      ]
    },
    {
      "cell_type": "markdown",
      "metadata": {
        "id": "ZnzlXOngF4Nj"
      },
      "source": [
        "このように，$x=1$ に近い解が得られました．"
      ]
    },
    {
      "cell_type": "markdown",
      "metadata": {
        "id": "2YeL02jG0u9b"
      },
      "source": [
        "#参考文献\n",
        "1.  http://danielhomola.com/2016/02/09/newtons-method-with-10-lines-of-python/\n",
        "2.  https://risalc.info/src/newton-method-example-square-root.html"
      ]
    }
  ]
}